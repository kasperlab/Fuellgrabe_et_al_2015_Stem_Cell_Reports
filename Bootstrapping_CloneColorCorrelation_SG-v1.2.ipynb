{
 "cells": [
  {
   "cell_type": "code",
   "execution_count": 21,
   "metadata": {
    "collapsed": true
   },
   "outputs": [],
   "source": [
    "%matplotlib inline"
   ]
  },
  {
   "cell_type": "code",
   "execution_count": 22,
   "metadata": {
    "collapsed": false
   },
   "outputs": [],
   "source": [
    "import numpy as np\n",
    "import scipy\n",
    "import random\n",
    "import pandas as pd\n",
    "import matplotlib.pyplot as plt\n",
    "from collections import Counter"
   ]
  },
  {
   "cell_type": "markdown",
   "metadata": {},
   "source": [
    "# 1. Initialize functions"
   ]
  },
  {
   "cell_type": "markdown",
   "metadata": {},
   "source": [
    "###a. Simulation - resampling"
   ]
  },
  {
   "cell_type": "code",
   "execution_count": 23,
   "metadata": {
    "collapsed": true
   },
   "outputs": [],
   "source": [
    "def sim_CCC_SG(mouse_ID, clone_distribution_SG, clone_distribution_IST, colors_SG, colors_IST, iterations):\n",
    "    \n",
    "    \"\"\"\n",
    "\n",
    "    Bootstrapping function to randomly resample empirical data in order to simulate the distribution of correlated, \n",
    "    non-correlated and unlabelled clones in each mouse under the assumption that SG and IST are independent.\n",
    "\n",
    "    ----------\n",
    "    mouse_ID: [list] of mice / experiments from which the empirical data used for the simulation is derived.\n",
    "    \n",
    "    clone_distribution_IST: [DataFrame] containing istmus clone distribution for each mouse. Indices must be mouse IDs, \n",
    "    columns must be clones per HF.\n",
    "    \n",
    "    colors_SG: [DataFrame] containing SG color distribution for each mouse. Indices must be mouse IDs, \n",
    "    columns must be number of SG clones which are 'B', 'G', 'Y', 'R'.\n",
    "    \n",
    "    colors_IST: [DataFrame] containing IST color distribution for each mouse. Indices must be mouse IDs, \n",
    "    columns must be number of IST clones which are 'B', 'G', 'Y', 'R'.\n",
    "    \n",
    "    ----------\n",
    "    \n",
    "    returns [DataFrame] containing the fraction of correlated, non-correlated and non labelled clones over \n",
    "    each iteration in each mouse\n",
    "    \n",
    "    \"\"\"\n",
    "    \n",
    "    #initialize output file\n",
    "    \n",
    "    ix1, ix2 = [], []\n",
    "    \n",
    "    for it in range(iterations):\n",
    "        ix1 += [it] * 3\n",
    "        ix2 += ['no_label','non_corr','corr']\n",
    "    \n",
    "    output = pd.DataFrame(index = [ix1, ix2], columns = mouse_ID)\n",
    "    \n",
    "    #initialize SG clone distributions for np.random.choice\n",
    "    \n",
    "    clones_choice_SG = {}\n",
    "    \n",
    "    for mouse in clone_distribution_SG.index:\n",
    "        tmp = []\n",
    "        \n",
    "        for clones_per_SG in clone_distribution_SG.columns:\n",
    "            tmp += [clones_per_SG] * clone_distribution_SG.ix[mouse, clones_per_SG]\n",
    "            \n",
    "        clones_choice_SG[mouse] = tmp\n",
    "    \n",
    "    #initialize IST clone distributions for np.random.choice\n",
    "    \n",
    "    clones_choice_IST = {}\n",
    "    \n",
    "    for mouse in clone_distribution_IST.index:\n",
    "        tmp = []\n",
    "        \n",
    "        for clones_per_IST in clone_distribution_IST.columns:\n",
    "            tmp += [clones_per_IST] * clone_distribution_IST.ix[mouse, clones_per_IST]\n",
    "            \n",
    "        clones_choice_IST[mouse] = tmp\n",
    "        \n",
    "    #initialize SG color distribution for np.random.choice\n",
    "    \n",
    "    colors_choice_SG = {}\n",
    "    \n",
    "    for mouse in colors_SG.index:\n",
    "        tmp = []\n",
    "        \n",
    "        for color in colors_SG.columns:\n",
    "            tmp += [color] * colors_SG.ix[mouse, color]\n",
    "            \n",
    "        colors_choice_SG[mouse] = tmp\n",
    "        \n",
    "    #initialize IST color distribution for np.random.choice\n",
    "    \n",
    "    colors_choice_IST = {}\n",
    "    \n",
    "    for mouse in colors_IST.index:\n",
    "        tmp = []\n",
    "        \n",
    "        for color in colors_IST.columns:\n",
    "            tmp += [color] * colors_IST.ix[mouse, color]\n",
    "            \n",
    "        colors_choice_IST[mouse] = tmp\n",
    "        \n",
    "    #iterate over simulation repeats\n",
    "    \n",
    "    for it in range(iterations):\n",
    "        \n",
    "        #iterate over mice\n",
    "        \n",
    "        for mouse in mouse_ID:\n",
    "            \n",
    "            #initialize count\n",
    "            \n",
    "            no_label_tmp = 0\n",
    "            non_corr_tmp = 0\n",
    "            corr_tmp = 0\n",
    "            \n",
    "            #iterate of number of HFs that were counted per mouse (can be derived from e.g. SG clone distribution)\n",
    "            \n",
    "            for HF in range(len(clones_choice_SG[mouse])):\n",
    "                \n",
    "                #chose number of SG clones and their colors\n",
    "                \n",
    "                c_SG = np.random.choice(colors_choice_SG[mouse], np.random.choice(clones_choice_SG[mouse], 1))\n",
    "                \n",
    "                #chose number of IST clones and their colors\n",
    "                \n",
    "                c_IST = np.random.choice(colors_choice_IST[mouse], np.random.choice(clones_choice_IST[mouse], 1))\n",
    "                \n",
    "                #score\n",
    "                                        \n",
    "                for c_SG_tmp in set(c_SG):\n",
    "                    \n",
    "                    if len(c_IST) == 0:\n",
    "                        no_label_tmp += 1\n",
    "                        \n",
    "                    elif c_SG_tmp not in c_IST:\n",
    "                        non_corr_tmp += 1\n",
    "                            \n",
    "                    elif c_SG_tmp in c_IST:\n",
    "                        corr_tmp += 1\n",
    "                    \n",
    "            #update output\n",
    "            \n",
    "            output.ix[it, 'no_label'][mouse] = float(no_label_tmp) / float(no_label_tmp + non_corr_tmp + corr_tmp)\n",
    "            output.ix[it, 'non_corr'][mouse] = float(non_corr_tmp) / float(no_label_tmp + non_corr_tmp + corr_tmp)\n",
    "            output.ix[it, 'corr'][mouse] = float(corr_tmp) / float(no_label_tmp + non_corr_tmp + corr_tmp)\n",
    "            \n",
    "    return output"
   ]
  },
  {
   "cell_type": "markdown",
   "metadata": {},
   "source": [
    "###b. Drawing"
   ]
  },
  {
   "cell_type": "code",
   "execution_count": 24,
   "metadata": {
    "collapsed": false
   },
   "outputs": [],
   "source": [
    "def draw_sim_CCC(sim_results, emp_results = None):\n",
    "    \n",
    "    \"\"\"\n",
    "    \n",
    "    Draws resampling results as violin plots and superimposes empirical results\n",
    "    \n",
    "    ----------\n",
    "    \n",
    "    sim_results: [DataFrame] containing the fraction of correlated, non-correlated and non labelled clones over \n",
    "    each iteration in each mouse\n",
    "    \n",
    "    emp_results; [DataFrame] containing the empirically determined fractions of correlated, non-correlated and \n",
    "    non labelled clones in each mouse.\n",
    "    \n",
    "    \"\"\"\n",
    "    \n",
    "    #create figure\n",
    "    \n",
    "    fig = plt.figure(facecolor = 'w', figsize = (20,10))\n",
    "    ax = plt.axes()\n",
    "    \n",
    "    #create xaxis\n",
    "    \n",
    "    ax.set_xlim(0, len(sim_results.columns))\n",
    "    \n",
    "    xticks = []\n",
    "    \n",
    "    for ix in range(len(sim_results.columns)):\n",
    "        xticks += [ix + 0.25, ix + 0.5, ix + 0.75]\n",
    "        \n",
    "    ax.set_xticks(xticks)\n",
    "    ax.set_xticklabels([])\n",
    "    \n",
    "    #create yaxis\n",
    "    \n",
    "    ax.set_ylim(0,1)\n",
    "    \n",
    "    ax.set_yticks([0.0, 0.1, 0.2, 0.3, 0.4, 0.5, 0.6, 0.7, 0.8, 0.9, 1.0])\n",
    "    ax.set_yticklabels([0.0, 0.1, 0.2, 0.3, 0.4, 0.5, 0.6, 0.7, 0.8, 0.9, 1.0], family = 'Arial', fontsize = 30)\n",
    "    \n",
    "    ax.set_ylabel('Probability', family = 'Arial', fontsize = 35)\n",
    "    \n",
    "    #create position and colormap\n",
    "    \n",
    "    posmap = {'no_label':0.25,\n",
    "               'non_corr':0.5,\n",
    "               'corr':0.75}\n",
    "    \n",
    "    cmap = {'no_label':'blue',\n",
    "             'non_corr':'green',\n",
    "             'corr':'red'}\n",
    "    \n",
    "    #plot data\n",
    "    \n",
    "    for pos, mouse in enumerate(sim_results.columns):\n",
    "        \n",
    "        #draw text\n",
    "        \n",
    "        ax.text(pos + 0.5, -0.05, mouse, family = 'Arial', fontsize = 30, ha = 'center', va = 'center')\n",
    "                \n",
    "        for x in ['no_label','non_corr','corr']:\n",
    "            \n",
    "            #draw violin plots\n",
    "            \n",
    "            violin = ax.violinplot([val for val in sim_results.swaplevel(0,1).ix[x][mouse].values],\n",
    "                                   positions = [pos + posmap[x]],\n",
    "                                   showextrema = False, widths = 0.25)\n",
    "            \n",
    "            for v in violin['bodies']:\n",
    "        \n",
    "                v.set_edgecolor(cmap[x])\n",
    "                v.set_facecolor(cmap[x])\n",
    "                v.set_linewidth(1.0)\n",
    "                v.set_alpha(0.25)\n",
    "                \n",
    "            #draw empirical data\n",
    "            \n",
    "            try:\n",
    "                ax.scatter(pos + posmap[x],\n",
    "                           [emp_results.ix[mouse, x]], \n",
    "                           color = cmap[x],\n",
    "                           edgecolor = cmap[x], \n",
    "                           s=100)\n",
    "            except:\n",
    "                continue"
   ]
  },
  {
   "cell_type": "code",
   "execution_count": 25,
   "metadata": {
    "collapsed": true
   },
   "outputs": [],
   "source": [
    "def draw_sim_CCC(sim_results, emp_results = None):\n",
    "    \n",
    "    #create figure\n",
    "    \n",
    "    fig = plt.figure(facecolor = 'w', figsize = (20,10))\n",
    "    ax = plt.axes()\n",
    "    \n",
    "    #create xaxis\n",
    "    \n",
    "    ax.set_xlim(0, len(sim_results.columns))\n",
    "    \n",
    "    xticks = []\n",
    "    \n",
    "    for ix in range(len(sim_results.columns)):\n",
    "        xticks += [ix + 0.25, ix + 0.5, ix + 0.75]\n",
    "        \n",
    "    ax.set_xticks(xticks)\n",
    "    ax.set_xticklabels([])\n",
    "    \n",
    "    #create yaxis\n",
    "    \n",
    "    ax.set_ylim(0,1)\n",
    "    \n",
    "    ax.set_yticks([0.0, 0.1, 0.2, 0.3, 0.4, 0.5, 0.6, 0.7, 0.8, 0.9, 1.0])\n",
    "    ax.set_yticklabels([0.0, 0.1, 0.2, 0.3, 0.4, 0.5, 0.6, 0.7, 0.8, 0.9, 1.0], family = 'Arial', fontsize = 30)\n",
    "    \n",
    "    ax.set_ylabel('Probability', family = 'Arial', fontsize = 35)\n",
    "    \n",
    "    #create position and colormap\n",
    "    \n",
    "    posmap = {'no_label':0.25,\n",
    "               'non_corr':0.5,\n",
    "               'corr':0.75}\n",
    "    \n",
    "    cmap = {'no_label':'blue',\n",
    "             'non_corr':'green',\n",
    "             'corr':'red'}\n",
    "    \n",
    "    #plot data\n",
    "    \n",
    "    for pos, mouse in enumerate(sim_results.columns):\n",
    "        \n",
    "        #draw text\n",
    "        \n",
    "        ax.text(pos + 0.5, -0.05, mouse, family = 'Arial', fontsize = 30, ha = 'center', va = 'center')\n",
    "                \n",
    "        for x in ['no_label','non_corr','corr']:\n",
    "            \n",
    "            #draw violin plots\n",
    "            \n",
    "            if np.sum([val for val in sim_results.swaplevel(0,1).ix[x][mouse].values]) == 0:\n",
    "                continue\n",
    "                \n",
    "            else:\n",
    "                \n",
    "                q_5 = np.percentile(sim_results.swaplevel(0,1).ix[x][mouse].values, 5)\n",
    "                q_95 = np.percentile(sim_results.swaplevel(0,1).ix[x][mouse].values, 95)\n",
    "                violin_tmp = [val for val in sim_results.swaplevel(0,1).ix[x][mouse].values if val >= q_5 and val <= q_95]\n",
    "                \n",
    "                violin = ax.violinplot(violin_tmp,\n",
    "                                       positions = [pos + posmap[x]],\n",
    "                                       showextrema = False, widths = 0.25)\n",
    "\n",
    "                for v in violin['bodies']:\n",
    "\n",
    "                    v.set_edgecolor(cmap[x])\n",
    "                    v.set_facecolor(cmap[x])\n",
    "                    v.set_linewidth(1.0)\n",
    "                    v.set_alpha(0.25)\n",
    "                    \n",
    "                ax.plot([pos + posmap[x] - 0.05, pos + posmap[x] + 0.05],[q_5, q_5], color = cmap[x], linewidth = 3)\n",
    "                ax.plot([pos + posmap[x] - 0.05, pos + posmap[x] + 0.05],[q_95, q_95], color = cmap[x], linewidth = 3)\n",
    "\n",
    "            #draw empirical data\n",
    "            \n",
    "            try:\n",
    "                ax.scatter(pos + posmap[x],\n",
    "                           [emp_results.ix[mouse, x]], \n",
    "                           color = cmap[x],\n",
    "                           edgecolor = cmap[x], \n",
    "                           s=100)\n",
    "            except:\n",
    "                continue"
   ]
  },
  {
   "cell_type": "markdown",
   "metadata": {},
   "source": [
    "#2. Load data"
   ]
  },
  {
   "cell_type": "code",
   "execution_count": 26,
   "metadata": {
    "collapsed": true
   },
   "outputs": [],
   "source": [
    "mouse_ID = ['AS51:1','AS51:2','AS48:1','AS90:7','AS42:2','AS42:1','AS90:4','AS122:3','AS152:7']"
   ]
  },
  {
   "cell_type": "code",
   "execution_count": 27,
   "metadata": {
    "collapsed": false
   },
   "outputs": [],
   "source": [
    "clones_per_IST_emp = pd.DataFrame(index = ['AS51:1','AS51:2','AS48:1','AS90:7','AS42:2','AS42:1','AS90:4','AS122:3','AS152:7'], columns = range(5))\n",
    "\n",
    "clones_per_IST_emp.ix['AS51:1'] = [16,6,10,0,0]\n",
    "clones_per_IST_emp.ix['AS51:2'] = [2,2,1,0,0]\n",
    "clones_per_IST_emp.ix['AS48:1'] = [21,13,0,0,0]\n",
    "clones_per_IST_emp.ix['AS90:7'] = [9,11,1,0,0]\n",
    "clones_per_IST_emp.ix['AS42:2'] = [11,9,2,0,0]\n",
    "clones_per_IST_emp.ix['AS42:1'] = [3,10,0,0,0]\n",
    "clones_per_IST_emp.ix['AS90:4'] = [5,5,3,1,0]\n",
    "clones_per_IST_emp.ix['AS122:3'] = [3,5,7,1,0]\n",
    "clones_per_IST_emp.ix['AS152:7'] = [3,8,5,6,0]"
   ]
  },
  {
   "cell_type": "code",
   "execution_count": 28,
   "metadata": {
    "collapsed": false
   },
   "outputs": [],
   "source": [
    "clones_per_SG_emp = pd.DataFrame(index = ['AS51:1','AS51:2','AS48:1','AS90:7','AS42:2','AS42:1','AS90:4','AS122:3','AS152:7'], columns = range(5))\n",
    "\n",
    "clones_per_SG_emp.ix['AS51:1'] = [0,29,4,0,0]\n",
    "clones_per_SG_emp.ix['AS51:2'] = [0,6,0,0,0]\n",
    "clones_per_SG_emp.ix['AS48:1'] = [0,32,2,0,0]\n",
    "clones_per_SG_emp.ix['AS90:7'] = [0,20,2,0,0]\n",
    "clones_per_SG_emp.ix['AS42:2'] = [0,18,3,0,0]\n",
    "clones_per_SG_emp.ix['AS42:1'] = [0,12,1,0,0]\n",
    "clones_per_SG_emp.ix['AS90:4'] = [0,9,5,0,0]\n",
    "clones_per_SG_emp.ix['AS122:3'] = [0,14,1,1,0]\n",
    "clones_per_SG_emp.ix['AS152:7'] = [0,18,3,0,0]"
   ]
  },
  {
   "cell_type": "code",
   "execution_count": 29,
   "metadata": {
    "collapsed": false
   },
   "outputs": [],
   "source": [
    "colors_per_mouse_SG_emp = pd.DataFrame(index = ['AS51:1','AS51:2','AS48:1','AS90:7','AS42:2','AS42:1','AS90:4','AS122:3','AS152:7'], \n",
    "                                       columns = ['B','G','Y','R'])\n",
    "\n",
    "colors_per_mouse_SG_emp.ix['AS51:1'] = [0,5,11,21]\n",
    "colors_per_mouse_SG_emp.ix['AS51:2'] = [0,0,2,4]\n",
    "colors_per_mouse_SG_emp.ix['AS48:1'] = [0,25,10,1]\n",
    "colors_per_mouse_SG_emp.ix['AS90:7'] = [1,0,15,8]\n",
    "colors_per_mouse_SG_emp.ix['AS42:2'] = [0,1,12,11]\n",
    "colors_per_mouse_SG_emp.ix['AS42:1'] = [0,0,10,4]\n",
    "colors_per_mouse_SG_emp.ix['AS90:4'] = [0,0,9,11]\n",
    "colors_per_mouse_SG_emp.ix['AS122:3'] = [2,7,2,8]\n",
    "colors_per_mouse_SG_emp.ix['AS152:7'] = [1,10,4,9]"
   ]
  },
  {
   "cell_type": "code",
   "execution_count": 30,
   "metadata": {
    "collapsed": false
   },
   "outputs": [],
   "source": [
    "colors_per_mouse_IST_emp = pd.DataFrame(index = ['AS51:1','AS51:2','AS48:1','AS90:7','AS42:2','AS42:1','AS90:4','AS122:3','AS152:7'], \n",
    "                                       columns = ['B','G','Y','R'])\n",
    "\n",
    "colors_per_mouse_IST_emp.ix['AS51:1'] = [0,2,11,13]\n",
    "colors_per_mouse_IST_emp.ix['AS51:2'] = [0,0,3,3]\n",
    "colors_per_mouse_IST_emp.ix['AS48:1'] = [0,10,2,0]\n",
    "colors_per_mouse_IST_emp.ix['AS90:7'] = [5,0,5,3]\n",
    "colors_per_mouse_IST_emp.ix['AS42:2'] = [0,0,6,8]\n",
    "colors_per_mouse_IST_emp.ix['AS42:1'] = [0,0,5,4]\n",
    "colors_per_mouse_IST_emp.ix['AS90:4'] = [3,0,7,5]\n",
    "colors_per_mouse_IST_emp.ix['AS122:3'] = [3,7,8,4]\n",
    "colors_per_mouse_IST_emp.ix['AS152:7'] = [2,14,10,9]"
   ]
  },
  {
   "cell_type": "code",
   "execution_count": 31,
   "metadata": {
    "collapsed": false
   },
   "outputs": [],
   "source": [
    "iterations = 1000"
   ]
  },
  {
   "cell_type": "code",
   "execution_count": 32,
   "metadata": {
    "collapsed": false
   },
   "outputs": [],
   "source": [
    "emp_results = pd.DataFrame(index = ['AS51:1','AS51:2','AS48:1','AS90:7','AS42:2','AS42:1','AS90:4','AS122:3','AS152:7'],\n",
    "                           columns = ['corr','non_corr','no_label'])\n",
    "\n",
    "emp_results.ix['AS51:1'] = [0.4054,0.05410,0.5405]\n",
    "emp_results.ix['AS51:2'] = [0.3333,0.1667,0.5000]\n",
    "emp_results.ix['AS48:1'] = [0.353,0.029,0.618]\n",
    "emp_results.ix['AS90:7'] = [0.2083333333,0.375,0.4166666667]\n",
    "emp_results.ix['AS42:2'] = [0.3333,0.2083,0.4583]\n",
    "emp_results.ix['AS42:1'] = [0.4285714286,0.2142857143,0.3571428571]\n",
    "emp_results.ix['AS90:4'] = [0.55,0.10,0.35]\n",
    "emp_results.ix['AS122:3'] = [0.3684,0.4737,0.1579]\n",
    "emp_results.ix['AS152:7'] = [0.3333333333,0.5833333333,0.08333333333]"
   ]
  },
  {
   "cell_type": "markdown",
   "metadata": {},
   "source": [
    "#3. Simulate and draw"
   ]
  },
  {
   "cell_type": "code",
   "execution_count": 33,
   "metadata": {
    "collapsed": false
   },
   "outputs": [],
   "source": [
    "sim_results = sim_CCC_SG(mouse_ID,\n",
    "                         clones_per_SG_emp,\n",
    "                         clones_per_IST_emp, \n",
    "                         colors_per_mouse_SG_emp, \n",
    "                         colors_per_mouse_IST_emp, \n",
    "                         iterations)"
   ]
  },
  {
   "cell_type": "code",
   "execution_count": 34,
   "metadata": {
    "collapsed": true
   },
   "outputs": [],
   "source": [
    "mice_sel = ['AS51:1','AS48:1','AS90:7','AS42:2','AS152:7','AS90:4']"
   ]
  },
  {
   "cell_type": "code",
   "execution_count": 35,
   "metadata": {
    "collapsed": false
   },
   "outputs": [
    {
     "data": {
      "image/png": "[encoded data removed]",
      "text/plain": [
       "<matplotlib.figure.Figure at 0x10ecb2310>"
      ]
     },
     "metadata": {},
     "output_type": "display_data"
    }
   ],
   "source": [
    "draw_sim_CCC(sim_results[mice_sel], emp_results = emp_results)"
   ]
  },
  {
   "cell_type": "markdown",
   "metadata": {
    "collapsed": true
   },
   "source": [
    "#5. P-values (probability that a correlation probability equal to or more extreme than the empirically observed is reached if the null hypothesis [no correlation] is true)"
   ]
  },
  {
   "cell_type": "code",
   "execution_count": 36,
   "metadata": {
    "collapsed": false
   },
   "outputs": [],
   "source": [
    "def get_pvalue_corr(sim_results, emp_results):\n",
    "    \n",
    "    #create output\n",
    "    \n",
    "    output = pd.Series(index = sim_results.columns)\n",
    "    \n",
    "    #iterate over mice\n",
    "    \n",
    "    for mouse in sim_results.columns:\n",
    "        \n",
    "        null_distr_tmp = sim_results.swaplevel(0,1).ix['corr'][mouse]\n",
    "        \n",
    "        emp_tmp = emp_results.ix[mouse, 'corr']\n",
    "        \n",
    "        p_tmp = float(np.sum(null_distr_tmp > emp_tmp)) / len(null_distr_tmp)\n",
    "        \n",
    "        output[mouse] = p_tmp\n",
    "        \n",
    "    return output"
   ]
  },
  {
   "cell_type": "code",
   "execution_count": 38,
   "metadata": {
    "collapsed": false
   },
   "outputs": [
    {
     "name": "stdout",
     "output_type": "stream",
     "text": [
      "AS51:1     0.064\n",
      "AS48:1     0.041\n",
      "AS90:7     0.487\n",
      "AS42:2     0.231\n",
      "AS152:7    0.788\n",
      "AS90:4     0.038\n",
      "dtype: float64\n"
     ]
    }
   ],
   "source": [
    "print get_pvalue_corr(sim_results[mice_sel], emp_results)"
   ]
  },
  {
   "cell_type": "code",
   "execution_count": null,
   "metadata": {
    "collapsed": true
   },
   "outputs": [],
   "source": []
  }
 ],
 "metadata": {
  "kernelspec": {
   "display_name": "Python 2",
   "language": "python",
   "name": "python2"
  },
  "language_info": {
   "codemirror_mode": {
    "name": "ipython",
    "version": 2
   },
   "file_extension": ".py",
   "mimetype": "text/x-python",
   "name": "python",
   "nbconvert_exporter": "python",
   "pygments_lexer": "ipython2",
   "version": "2.7.6"
  }
 },
 "nbformat": 4,
 "nbformat_minor": 0
}
